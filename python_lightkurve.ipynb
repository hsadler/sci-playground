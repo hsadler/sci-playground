{
 "cells": [
  {
   "cell_type": "code",
   "execution_count": null,
   "id": "ecdbb526-94a2-4006-bb66-87914ac5c397",
   "metadata": {},
   "outputs": [],
   "source": [
    "# Finding exoplanets with Python + Lightkurve"
   ]
  },
  {
   "cell_type": "code",
   "execution_count": 2,
   "id": "54a6d5cf-1d5f-47b7-845b-c36fc109139a",
   "metadata": {},
   "outputs": [],
   "source": [
    "from lightkurve import search_targetpixelfile\n",
    "from lightkurve import TessTargetPixelFile\n",
    "import lightkurve as lk\n",
    "import numpy as np"
   ]
  },
  {
   "cell_type": "code",
   "execution_count": 3,
   "id": "5371c7cc-6e17-48d9-a509-40401bed1fcb",
   "metadata": {},
   "outputs": [
    {
     "name": "stderr",
     "output_type": "stream",
     "text": [
      "Could not resolve KIC 779182711 to a sky position.\n",
      "/Users/harry.sadler/Library/Caches/pypoetry/virtualenvs/sci-playground-YEa2YnUl-py3.12/lib/python3.12/site-packages/lightkurve/search.py:419: LightkurveWarning: Cannot download from an empty search result.\n",
      "  warnings.warn(\n"
     ]
    },
    {
     "ename": "AttributeError",
     "evalue": "'NoneType' object has no attribute 'plot'",
     "output_type": "error",
     "traceback": [
      "\u001b[0;31m---------------------------------------------------------------------------\u001b[0m",
      "\u001b[0;31mAttributeError\u001b[0m                            Traceback (most recent call last)",
      "Cell \u001b[0;32mIn[3], line 5\u001b[0m\n\u001b[1;32m      3\u001b[0m pixelFile \u001b[38;5;241m=\u001b[39m search_targetpixelfile(\u001b[38;5;124m'\u001b[39m\u001b[38;5;124mKIC 779182711\u001b[39m\u001b[38;5;124m'\u001b[39m, author\u001b[38;5;241m=\u001b[39m\u001b[38;5;124m\"\u001b[39m\u001b[38;5;124mKepler\u001b[39m\u001b[38;5;124m\"\u001b[39m, cadence\u001b[38;5;241m=\u001b[39m\u001b[38;5;124m\"\u001b[39m\u001b[38;5;124mlong\u001b[39m\u001b[38;5;124m\"\u001b[39m, quarter\u001b[38;5;241m=\u001b[39m\u001b[38;5;241m4\u001b[39m)\u001b[38;5;241m.\u001b[39mdownload()\n\u001b[1;32m      4\u001b[0m \u001b[38;5;66;03m# Show a single snapshot\u001b[39;00m\n\u001b[0;32m----> 5\u001b[0m \u001b[43mpixelFile\u001b[49m\u001b[38;5;241;43m.\u001b[39;49m\u001b[43mplot\u001b[49m(frame\u001b[38;5;241m=\u001b[39m\u001b[38;5;241m42\u001b[39m)\n",
      "\u001b[0;31mAttributeError\u001b[0m: 'NoneType' object has no attribute 'plot'"
     ]
    }
   ],
   "source": [
    "# Download the pixelfile for a given star\n",
    "# A quarter means a quarter of a year\n",
    "pixelFile = search_targetpixelfile('KIC 779182711', author=\"Kepler\", cadence=\"long\", quarter=4).download()\n",
    "# Show a single snapshot\n",
    "pixelFile.plot(frame=42)"
   ]
  }
 ],
 "metadata": {
  "kernelspec": {
   "display_name": "Python 3 (ipykernel)",
   "language": "python",
   "name": "python3"
  },
  "language_info": {
   "codemirror_mode": {
    "name": "ipython",
    "version": 3
   },
   "file_extension": ".py",
   "mimetype": "text/x-python",
   "name": "python",
   "nbconvert_exporter": "python",
   "pygments_lexer": "ipython3",
   "version": "3.12.0"
  }
 },
 "nbformat": 4,
 "nbformat_minor": 5
}
